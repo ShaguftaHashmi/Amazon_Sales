{
 "cells": [
  {
   "cell_type": "code",
   "execution_count": 1,
   "id": "c4248de4",
   "metadata": {},
   "outputs": [
    {
     "name": "stdout",
     "output_type": "stream",
     "text": [
      "hello\n"
     ]
    }
   ],
   "source": [
    "print(\"hello\")"
   ]
  },
  {
   "cell_type": "code",
   "execution_count": 5,
   "id": "08645c42",
   "metadata": {},
   "outputs": [
    {
     "name": "stdout",
     "output_type": "stream",
     "text": [
      "import\n"
     ]
    }
   ],
   "source": [
    "\n",
    "import pandas as pd\n",
    "print('import')"
   ]
  },
  {
   "cell_type": "code",
   "execution_count": 8,
   "id": "b1e10e20",
   "metadata": {},
   "outputs": [
    {
     "name": "stdout",
     "output_type": "stream",
     "text": [
      "Open\n"
     ]
    }
   ],
   "source": [
    "amazon_india_full = pd.read_csv(\"amazon_india_complete_2015_2025.csv\")\n",
    "print('Open')"
   ]
  },
  {
   "cell_type": "code",
   "execution_count": 9,
   "id": "134d280d",
   "metadata": {},
   "outputs": [
    {
     "data": {
      "text/plain": [
       "(1127609, 34)"
      ]
     },
     "execution_count": 9,
     "metadata": {},
     "output_type": "execute_result"
    }
   ],
   "source": [
    "amazon_india_full.shape\n"
   ]
  },
  {
   "cell_type": "code",
   "execution_count": 12,
   "id": "9c1dcbf0",
   "metadata": {},
   "outputs": [
    {
     "data": {
      "text/plain": [
       "Index(['transaction_id', 'order_date', 'customer_id', 'product_id',\n",
       "       'product_name', 'category', 'subcategory', 'brand',\n",
       "       'original_price_inr', 'discount_percent', 'discounted_price_inr',\n",
       "       'quantity', 'subtotal_inr', 'delivery_charges', 'final_amount_inr',\n",
       "       'customer_city', 'customer_state', 'customer_tier',\n",
       "       'customer_spending_tier', 'customer_age_group', 'payment_method',\n",
       "       'delivery_days', 'delivery_type', 'is_prime_member', 'is_festival_sale',\n",
       "       'festival_name', 'customer_rating', 'return_status', 'order_month',\n",
       "       'order_year', 'order_quarter', 'product_weight_kg', 'is_prime_eligible',\n",
       "       'product_rating'],\n",
       "      dtype='object')"
      ]
     },
     "execution_count": 12,
     "metadata": {},
     "output_type": "execute_result"
    }
   ],
   "source": [
    "amazon_india_full.columns"
   ]
  },
  {
   "cell_type": "code",
   "execution_count": 13,
   "id": "d9ee1c90",
   "metadata": {},
   "outputs": [
    {
     "name": "stdout",
     "output_type": "stream",
     "text": [
      "delivery_charges       90201\n",
      "customer_age_group    135315\n",
      "festival_name         777736\n",
      "customer_rating       341696\n",
      "dtype: int64\n"
     ]
    }
   ],
   "source": [
    "if amazon_india_full.isnull().values.any():\n",
    "    print(amazon_india_full.isnull().sum() [amazon_india_full.isnull().sum() > 0])\n",
    "else:\n",
    "    print('No Null Values')"
   ]
  },
  {
   "cell_type": "code",
   "execution_count": 14,
   "id": "04e4806d",
   "metadata": {},
   "outputs": [
    {
     "data": {
      "text/plain": [
       "Index(['Transaction Id', 'Order Date', 'Customer Id', 'Product Id',\n",
       "       'Product Name', 'Category', 'Subcategory', 'Brand',\n",
       "       'Original Price Inr', 'Discount Percent', 'Discounted Price Inr',\n",
       "       'Quantity', 'Subtotal Inr', 'Delivery Charges', 'Final Amount Inr',\n",
       "       'Customer City', 'Customer State', 'Customer Tier',\n",
       "       'Customer Spending Tier', 'Customer Age Group', 'Payment Method',\n",
       "       'Delivery Days', 'Delivery Type', 'Is Prime Member', 'Is Festival Sale',\n",
       "       'Festival Name', 'Customer Rating', 'Return Status', 'Order Month',\n",
       "       'Order Year', 'Order Quarter', 'Product Weight Kg', 'Is Prime Eligible',\n",
       "       'Product Rating'],\n",
       "      dtype='object')"
      ]
     },
     "execution_count": 14,
     "metadata": {},
     "output_type": "execute_result"
    }
   ],
   "source": [
    "amazon_india_full.columns = ['transaction_id', 'order_date', 'customer_id', 'product_id',\n",
    "       'product_name', 'category', 'subcategory', 'brand',\n",
    "       'original_price_inr', 'discount_percent', 'discounted_price_inr',\n",
    "       'quantity', 'subtotal_inr', 'delivery_charges', 'final_amount_inr',\n",
    "       'customer_city', 'customer_state', 'customer_tier',\n",
    "       'customer_spending_tier', 'customer_age_group', 'payment_method',\n",
    "       'delivery_days', 'delivery_type', 'is_prime_member', 'is_festival_sale',\n",
    "       'festival_name', 'customer_rating', 'return_status', 'order_month',\n",
    "       'order_year', 'order_quarter', 'product_weight_kg', 'is_prime_eligible',\n",
    "       'product_rating']\n",
    "\n",
    "amazon_india_full.columns = amazon_india_full.columns.str.replace(\"_\", \" \").str.title()\n",
    "amazon_india_full.columns"
   ]
  },
  {
   "cell_type": "code",
   "execution_count": 15,
   "id": "6c5f35a5",
   "metadata": {},
   "outputs": [
    {
     "name": "stdout",
     "output_type": "stream",
     "text": [
      "-- Transaction Id --\n",
      "Transaction Id\n",
      "TXN_2023_00063013    1\n",
      "TXN_2021_00064486    1\n",
      "TXN_2017_00065617    1\n",
      "TXN_2020_00054393    1\n",
      "TXN_2018_00071646    1\n",
      "                    ..\n",
      "TXN_2018_00047331    1\n",
      "TXN_2022_00065321    1\n",
      "TXN_2023_00057908    1\n",
      "TXN_2020_00035169    1\n",
      "TXN_2022_00124835    1\n",
      "Name: count, Length: 1127609, dtype: int64\n",
      "-- Order Date --\n",
      "Order Date\n",
      "2020-12-02    543\n",
      "2020-12-05    528\n",
      "2020-12-26    525\n",
      "2020-12-14    519\n",
      "2020-12-18    518\n",
      "             ... \n",
      "02/18/2016      1\n",
      "09/24/2015      1\n",
      "23-07-2015      1\n",
      "15-03-2015      1\n",
      "17/05/2015      1\n",
      "Name: count, Length: 14414, dtype: int64\n",
      "-- Customer Id --\n",
      "Customer Id\n",
      "CUST_2015_00003928    27\n",
      "CUST_2015_00004053    24\n",
      "CUST_2015_00001860    23\n",
      "CUST_2017_00014541    23\n",
      "CUST_2015_00004247    22\n",
      "                      ..\n",
      "CUST_2020_00042916     1\n",
      "CUST_2025_00012923     1\n",
      "CUST_2024_00043345     1\n",
      "CUST_2019_00039497     1\n",
      "CUST_2023_00010295     1\n",
      "Name: count, Length: 354969, dtype: int64\n",
      "-- Product Id --\n",
      "Product Id\n",
      "PROD_001935    2916\n",
      "PROD_000055    2509\n",
      "PROD_001949    2488\n",
      "PROD_001943    2475\n",
      "PROD_001899    2466\n",
      "               ... \n",
      "PROD_001486       9\n",
      "PROD_001543       8\n",
      "PROD_001386       7\n",
      "PROD_001390       7\n",
      "PROD_001418       5\n",
      "Name: count, Length: 2004, dtype: int64\n",
      "-- Product Name --\n",
      "Product Name\n",
      "Garmin Watch Deluxe                    2916\n",
      "OnePlus OnePlus 2 16GB White           2509\n",
      "Noise Watch Premium                    2488\n",
      "Garmin Sports Watch Premium            2475\n",
      "Xiaomi Watch Premium                   2466\n",
      "                                       ... \n",
      "Apple iPhone 16 Pro Max 64GB Black        9\n",
      "Dell VivoBook 4GB RAM Silver              8\n",
      "Apple iPhone 16 Pro Max 128GB Black       7\n",
      "Apple iPhone 16 Pro Max 64GB Blue         7\n",
      "Samsung Galaxy A56 128GB Black            5\n",
      "Name: count, Length: 1974, dtype: int64\n",
      "-- Category --\n",
      "Category\n",
      "Electronics                  1126726\n",
      "Electronic                       229\n",
      "ELECTRONICS                      225\n",
      "Electronics & Accessories        218\n",
      "Electronicss                     211\n",
      "Name: count, dtype: int64\n",
      "-- Subcategory --\n",
      "Subcategory\n",
      "Smartphones           827177\n",
      "Laptops                88370\n",
      "Smart Watch            74708\n",
      "Tablets                70254\n",
      "Audio                  50623\n",
      "TV & Entertainment     16477\n",
      "Name: count, dtype: int64\n",
      "-- Brand --\n",
      "Brand\n",
      "Samsung           222664\n",
      "OnePlus           174329\n",
      "Xiaomi            156154\n",
      "Apple             111827\n",
      "Realme             84696\n",
      "Oppo               71205\n",
      "Vivo               71176\n",
      "Motorola           34535\n",
      "Lenovo             22733\n",
      "Alienware          14683\n",
      "Acer               13961\n",
      "ASUS               13062\n",
      "Nothing            11535\n",
      "Garmin             10938\n",
      "Fitbit             10563\n",
      "Noise              10371\n",
      "MSI                10122\n",
      "Dell                9389\n",
      "HP                  9113\n",
      "Audio-Technica      8689\n",
      "Amazfit             8598\n",
      "Fire-Boltt          8002\n",
      "JBL                 7688\n",
      "LG                  6410\n",
      "Sennheiser          6338\n",
      "Sony                5989\n",
      "Boat                4818\n",
      "Skullcandy          4468\n",
      "iQOO                3553\n",
      "Name: count, dtype: int64\n",
      "-- Original Price Inr --\n",
      "Original Price Inr\n",
      "45363.47     409\n",
      "52280.35     386\n",
      "54731.86     381\n",
      "46234.09     370\n",
      "46458.94     358\n",
      "            ... \n",
      "2245508.0      1\n",
      "11,614.74      1\n",
      "22,484.71      1\n",
      "3635028.0      1\n",
      "305,463.3      1\n",
      "Name: count, Length: 46185, dtype: int64\n",
      "-- Customer City --\n",
      "Customer City\n",
      "Mumbai           140536\n",
      "Delhi            122365\n",
      "Bangalore        101416\n",
      "Chennai           83646\n",
      "Pune              67703\n",
      "Kolkata           65767\n",
      "Ahmedabad         50861\n",
      "Hyderabad         44573\n",
      "Jaipur            40453\n",
      "Surat             40400\n",
      "Nagpur            37211\n",
      "Kanpur            34334\n",
      "Lucknow           34077\n",
      "Indore            33592\n",
      "Coimbatore        26695\n",
      "Kochi             24940\n",
      "Visakhapatnam     22167\n",
      "Patna             21339\n",
      "Vadodara          21078\n",
      "Bhubaneswar       20472\n",
      "Chandigarh        19575\n",
      "Ludhiana          18891\n",
      "Saharanpur         6705\n",
      "Meerut             6641\n",
      "Bareilly           6590\n",
      "Aligarh            6407\n",
      "Allahabad          6030\n",
      "Varanasi           5897\n",
      "Gorakhpur          5867\n",
      "Moradabad          5855\n",
      "New Delhi           304\n",
      "Mumbai              304\n",
      "Kolkata             294\n",
      "Bombay              289\n",
      "Banglore            287\n",
      "KOLKATA             285\n",
      "CHENNAI             285\n",
      "delhi               283\n",
      "Delhi NCR           282\n",
      "chenai              280\n",
      "mumba               279\n",
      "Bengalore           277\n",
      "BANGALORE           277\n",
      "Chennai             276\n",
      "Madras              266\n",
      "Bengaluru           266\n",
      "Calcutta            264\n",
      "kolkata             257\n",
      "MUMBAI              236\n",
      "DELHI               235\n",
      "Name: count, dtype: int64\n",
      "-- Customer State --\n",
      "Customer State\n",
      "Maharashtra       246558\n",
      "Delhi             123469\n",
      "Uttar Pradesh     118403\n",
      "Gujarat           112339\n",
      "Tamil Nadu        111448\n",
      "Karnataka         102523\n",
      "West Bengal        66867\n",
      "Telangana          44573\n",
      "Rajasthan          40453\n",
      "Punjab             38466\n",
      "Madhya Pradesh     33592\n",
      "Kerala             24940\n",
      "Andhra Pradesh     22167\n",
      "Bihar              21339\n",
      "Odisha             20472\n",
      "Name: count, dtype: int64\n",
      "-- Customer Tier --\n",
      "Customer Tier\n",
      "Metro    563829\n",
      "Tier1    338631\n",
      "Tier2    175157\n",
      "Rural     49992\n",
      "Name: count, dtype: int64\n",
      "-- Customer Spending Tier --\n",
      "Customer Spending Tier\n",
      "Standard    688120\n",
      "Budget      232696\n",
      "Premium     206793\n",
      "Name: count, dtype: int64\n",
      "-- Customer Age Group --\n",
      "Customer Age Group\n",
      "26-35    347899\n",
      "18-25    316424\n",
      "36-45    199100\n",
      "46-55     99012\n",
      "55+       29859\n",
      "Name: count, dtype: int64\n",
      "-- Payment Method --\n",
      "Payment Method\n",
      "UPI            384228\n",
      "COD            322831\n",
      "Credit Card    172261\n",
      "Debit Card     140202\n",
      "Net Banking     64971\n",
      "Wallet          22821\n",
      "BNPL            20295\n",
      "Name: count, dtype: int64\n",
      "-- Delivery Days --\n",
      "Delivery Days\n",
      "3           288488\n",
      "1           210462\n",
      "4           206438\n",
      "5           136608\n",
      "2           126280\n",
      "6           102668\n",
      "7            34116\n",
      "-1            6836\n",
      "1-2 days      4534\n",
      "Same Day      4469\n",
      "Express       2317\n",
      "0             2218\n",
      "15            2175\n",
      "Name: count, dtype: int64\n",
      "-- Delivery Type --\n",
      "Delivery Type\n",
      "Standard    784003\n",
      "Same Day    214766\n",
      "Express     128840\n",
      "Name: count, dtype: int64\n",
      "-- Is Prime Member --\n",
      "Is Prime Member\n",
      "False    635593\n",
      "True     390675\n",
      "FALSE     21086\n",
      "0         21078\n",
      "No        20728\n",
      "Yes       12894\n",
      "1         12871\n",
      "TRUE      12684\n",
      "Name: count, dtype: int64\n",
      "-- Is Festival Sale --\n",
      "Is Festival Sale\n",
      "False    707951\n",
      "True     318446\n",
      "0         23568\n",
      "FALSE     23150\n",
      "No        23067\n",
      "Yes       10518\n",
      "TRUE      10488\n",
      "1         10421\n",
      "Name: count, dtype: int64\n",
      "-- Festival Name --\n",
      "Festival Name\n",
      "Back to School                  85396\n",
      "Diwali Sale                     83611\n",
      "Amazon Great Indian Festival    53062\n",
      "Summer Sale                     44931\n",
      "Holi Festival                   39608\n",
      "Republic Day Sale               20183\n",
      "Valentine Sale                  14106\n",
      "Prime Day                        8976\n",
      "Name: count, dtype: int64\n",
      "-- Customer Rating --\n",
      "Customer Rating\n",
      "4.5          245857\n",
      "5.0          185749\n",
      "4.0          174681\n",
      "3.5           76153\n",
      "3.0           40617\n",
      "4/5           10914\n",
      "4.5 stars      8618\n",
      "5.0 stars      6368\n",
      "4.0 stars      6069\n",
      "5/5            4787\n",
      "4.5/5.0        4230\n",
      "4              3677\n",
      "5.0/5.0        3361\n",
      "3/5            3079\n",
      "4.0/5.0        2955\n",
      "3.5 stars      2695\n",
      "5              1587\n",
      "3.0 stars      1431\n",
      "3.5/5.0        1309\n",
      "3              1048\n",
      "3.0/5.0         728\n",
      "Name: count, dtype: int64\n",
      "-- Return Status --\n",
      "Return Status\n",
      "Delivered    1022431\n",
      "Returned       79125\n",
      "Cancelled      26053\n",
      "Name: count, dtype: int64\n",
      "-- Is Prime Eligible --\n",
      "Is Prime Eligible\n",
      "True     840778\n",
      "False    185642\n",
      "1         27650\n",
      "Yes       27631\n",
      "TRUE      27607\n",
      "FALSE      6183\n",
      "No         6079\n",
      "0          6039\n",
      "Name: count, dtype: int64\n"
     ]
    }
   ],
   "source": [
    "for columns in amazon_india_full.select_dtypes(include='object').columns:\n",
    "    print(f\"-- {columns} --\")\n",
    "    print(amazon_india_full[columns].value_counts())"
   ]
  },
  {
   "cell_type": "code",
   "execution_count": 16,
   "id": "1e945aed",
   "metadata": {},
   "outputs": [
    {
     "name": "stdout",
     "output_type": "stream",
     "text": [
      "changed\n"
     ]
    }
   ],
   "source": [
    "amazon_india_full['Order Date'] = pd.to_datetime(amazon_india_full['Order Date'], format='mixed')\n",
    "amazon_india_full['Original Price Inr'] = pd.to_numeric(amazon_india_full['Original Price Inr'], errors='coerce')\n",
    "amazon_india_full['Delivery Days'] = pd.to_numeric(amazon_india_full['Delivery Days'], errors='coerce')\n",
    "amazon_india_full['Customer Rating'] = pd.to_numeric(amazon_india_full['Customer Rating'], errors='coerce')\n",
    "amazon_india_full['Is Festival Sale'] = pd.to_numeric(amazon_india_full['Is Festival Sale'], errors='coerce').astype(bool)\n",
    "amazon_india_full['Is Prime Member'] = pd.to_numeric(amazon_india_full['Is Prime Member'], errors='coerce').astype(bool)\n",
    "amazon_india_full['Is Prime Eligible'] = pd.to_numeric(amazon_india_full['Is Prime Eligible'], errors='coerce').astype(bool)\n",
    "print('changed')"
   ]
  },
  {
   "cell_type": "code",
   "execution_count": 17,
   "id": "7f447286",
   "metadata": {},
   "outputs": [
    {
     "name": "stderr",
     "output_type": "stream",
     "text": [
      "C:\\Users\\Digital Suppliers\\AppData\\Local\\Temp\\ipykernel_3912\\2043398642.py:1: FutureWarning: DataFrame.fillna with 'method' is deprecated and will raise in a future version. Use obj.ffill() or obj.bfill() instead.\n",
      "  amazon_india_full[['Delivery Charges', 'Customer Rating']] = amazon_india_full[['Delivery Charges', 'Customer Rating']].fillna(method='bfill')\n"
     ]
    }
   ],
   "source": [
    "amazon_india_full[['Delivery Charges', 'Customer Rating']] = amazon_india_full[['Delivery Charges', 'Customer Rating']].fillna(method='bfill')\n"
   ]
  },
  {
   "cell_type": "code",
   "execution_count": 18,
   "id": "c60712bb",
   "metadata": {},
   "outputs": [
    {
     "name": "stderr",
     "output_type": "stream",
     "text": [
      "C:\\Users\\Digital Suppliers\\AppData\\Local\\Temp\\ipykernel_3912\\495590491.py:1: FutureWarning: DataFrame.fillna with 'method' is deprecated and will raise in a future version. Use obj.ffill() or obj.bfill() instead.\n",
      "  amazon_india_full[['Original Price Inr', 'Delivery Days', 'Customer Rating']] = amazon_india_full[['Original Price Inr', 'Delivery Days', 'Customer Rating']] .fillna(method='bfill')\n"
     ]
    }
   ],
   "source": [
    "amazon_india_full[['Original Price Inr', 'Delivery Days', 'Customer Rating']] = amazon_india_full[['Original Price Inr', 'Delivery Days', 'Customer Rating']] .fillna(method='bfill')\n"
   ]
  },
  {
   "cell_type": "code",
   "execution_count": 20,
   "id": "bf3ef2c2",
   "metadata": {},
   "outputs": [
    {
     "name": "stderr",
     "output_type": "stream",
     "text": [
      "C:\\Users\\Digital Suppliers\\AppData\\Local\\Temp\\ipykernel_3912\\4116468957.py:1: FutureWarning: DataFrame.fillna with 'method' is deprecated and will raise in a future version. Use obj.ffill() or obj.bfill() instead.\n",
      "  amazon_india_full[['Festival Name', 'Customer Age Group', 'Customer Rating']] = amazon_india_full[['Festival Name', 'Customer Age Group', 'Customer Rating']].fillna(method='ffill')\n"
     ]
    }
   ],
   "source": [
    "amazon_india_full[['Festival Name', 'Customer Age Group', 'Customer Rating']] = amazon_india_full[['Festival Name', 'Customer Age Group', 'Customer Rating']].fillna(method='ffill')\n"
   ]
  },
  {
   "cell_type": "code",
   "execution_count": 21,
   "id": "4a1d81ca",
   "metadata": {},
   "outputs": [
    {
     "name": "stderr",
     "output_type": "stream",
     "text": [
      "C:\\Users\\Digital Suppliers\\AppData\\Local\\Temp\\ipykernel_3912\\3967878318.py:1: FutureWarning: Series.fillna with 'method' is deprecated and will raise in a future version. Use obj.ffill() or obj.bfill() instead.\n",
      "  amazon_india_full['Festival Name'] = amazon_india_full['Festival Name'].fillna(method='bfill')\n"
     ]
    }
   ],
   "source": [
    "amazon_india_full['Festival Name'] = amazon_india_full['Festival Name'].fillna(method='bfill')\n"
   ]
  },
  {
   "cell_type": "code",
   "execution_count": 22,
   "id": "57fcbd32",
   "metadata": {},
   "outputs": [
    {
     "name": "stderr",
     "output_type": "stream",
     "text": [
      "C:\\Users\\Digital Suppliers\\AppData\\Local\\Temp\\ipykernel_3912\\2702513503.py:1: FutureWarning: Series.fillna with 'method' is deprecated and will raise in a future version. Use obj.ffill() or obj.bfill() instead.\n",
      "  amazon_india_full['Customer Age Group'] = amazon_india_full['Customer Age Group'].fillna(method='bfill')\n"
     ]
    }
   ],
   "source": [
    "amazon_india_full['Customer Age Group'] = amazon_india_full['Customer Age Group'].fillna(method='bfill')\n"
   ]
  },
  {
   "cell_type": "code",
   "execution_count": 23,
   "id": "fecaaecd",
   "metadata": {},
   "outputs": [
    {
     "name": "stderr",
     "output_type": "stream",
     "text": [
      "C:\\Users\\Digital Suppliers\\AppData\\Local\\Temp\\ipykernel_3912\\224233831.py:1: FutureWarning: Series.fillna with 'method' is deprecated and will raise in a future version. Use obj.ffill() or obj.bfill() instead.\n",
      "  amazon_india_full['Original Price Inr'] = amazon_india_full['Original Price Inr'].fillna(method='ffill')\n"
     ]
    }
   ],
   "source": [
    "amazon_india_full['Original Price Inr'] = amazon_india_full['Original Price Inr'].fillna(method='ffill')\n"
   ]
  },
  {
   "cell_type": "code",
   "execution_count": 24,
   "id": "ea914cfd",
   "metadata": {},
   "outputs": [
    {
     "name": "stdout",
     "output_type": "stream",
     "text": [
      "No Null Values\n"
     ]
    }
   ],
   "source": [
    "if amazon_india_full.isnull().values.any():\n",
    "    print(amazon_india_full.isnull().sum() [amazon_india_full.isnull().sum() > 0])\n",
    "else:\n",
    "    print('No Null Values')"
   ]
  },
  {
   "cell_type": "code",
   "execution_count": 25,
   "id": "7d4dad5c",
   "metadata": {},
   "outputs": [
    {
     "data": {
      "text/plain": [
       "1000    2023-04-17\n",
       "1001    2017-02-22\n",
       "1002    2020-07-11\n",
       "1003    2024-05-11\n",
       "1004    2017-09-13\n",
       "           ...    \n",
       "19995   2020-08-10\n",
       "19996   2023-07-11\n",
       "19997   2016-10-18\n",
       "19998   2021-01-18\n",
       "19999   2021-07-05\n",
       "Name: Order Date, Length: 19000, dtype: datetime64[ns]"
      ]
     },
     "execution_count": 25,
     "metadata": {},
     "output_type": "execute_result"
    }
   ],
   "source": [
    "amazon_india_full['Order Date'].iloc[1000:20000]\n"
   ]
  },
  {
   "cell_type": "code",
   "execution_count": 26,
   "id": "82045d3b",
   "metadata": {},
   "outputs": [
    {
     "data": {
      "text/plain": [
       "Transaction Id                    object\n",
       "Order Date                datetime64[ns]\n",
       "Customer Id                       object\n",
       "Product Id                        object\n",
       "Product Name                      object\n",
       "Category                          object\n",
       "Subcategory                       object\n",
       "Brand                             object\n",
       "Original Price Inr               float64\n",
       "Discount Percent                 float64\n",
       "Discounted Price Inr             float64\n",
       "Quantity                           int64\n",
       "Subtotal Inr                     float64\n",
       "Delivery Charges                 float64\n",
       "Final Amount Inr                 float64\n",
       "Customer City                     object\n",
       "Customer State                    object\n",
       "Customer Tier                     object\n",
       "Customer Spending Tier            object\n",
       "Customer Age Group                object\n",
       "Payment Method                    object\n",
       "Delivery Days                    float64\n",
       "Delivery Type                     object\n",
       "Is Prime Member                     bool\n",
       "Is Festival Sale                    bool\n",
       "Festival Name                     object\n",
       "Customer Rating                  float64\n",
       "Return Status                     object\n",
       "Order Month                        int64\n",
       "Order Year                         int64\n",
       "Order Quarter                      int64\n",
       "Product Weight Kg                float64\n",
       "Is Prime Eligible                   bool\n",
       "Product Rating                   float64\n",
       "dtype: object"
      ]
     },
     "execution_count": 26,
     "metadata": {},
     "output_type": "execute_result"
    }
   ],
   "source": [
    "amazon_india_full.dtypes\n"
   ]
  },
  {
   "cell_type": "code",
   "execution_count": 28,
   "id": "d39a1fa3",
   "metadata": {},
   "outputs": [
    {
     "name": "stdout",
     "output_type": "stream",
     "text": [
      "done\n"
     ]
    }
   ],
   "source": [
    "city_map = {\n",
    "    \"Mumbai\": \"Mumbai\",\n",
    "    \"mumba\": \"Mumbai\",\n",
    "    \"MUMBAI\": \"Mumbai\",\n",
    "    \"Bombay\": \"Mumbai\",\n",
    "\n",
    "    \"Delhi\": \"Delhi\",\n",
    "    \"delhi\": \"Delhi\",\n",
    "    \"DELHI\": \"Delhi\",\n",
    "    \"New Delhi\": \"Delhi\",\n",
    "    \"Delhi NCR\": \"Delhi\",\n",
    "\n",
    "    \"Bangalore\": \"Bangalore\",\n",
    "    \"Banglore\": \"Bangalore\",\n",
    "    \"Bengalore\": \"Bangalore\",\n",
    "    \"BANGALORE\": \"Bangalore\",\n",
    "    \"Bengaluru\": \"Bangalore\",\n",
    "\n",
    "    \"Chennai\": \"Chennai\",\n",
    "    \"CHENNAI\": \"Chennai\",\n",
    "    \"chenai\": \"Chennai\",\n",
    "    \"chenai\": \"Chennai\",\n",
    "    \"Madras\": \"Chennai\",\n",
    "\n",
    "    \"Kolkata\": \"Kolkata\",\n",
    "    \"kolkata\": \"Kolkata\",\n",
    "    \"KOLKATA\": \"Kolkata\",\n",
    "    \"Calcutta\": \"Kolkata\"\n",
    "}\n",
    "print(\"done\")"
   ]
  },
  {
   "cell_type": "code",
   "execution_count": 29,
   "id": "fa61340f",
   "metadata": {},
   "outputs": [],
   "source": [
    "amazon_india_full['Customer City'] = amazon_india_full['Customer City'].replace(city_map)\n"
   ]
  },
  {
   "cell_type": "code",
   "execution_count": 30,
   "id": "5ee86421",
   "metadata": {},
   "outputs": [
    {
     "data": {
      "text/plain": [
       "100      Nagpur\n",
       "101      Nagpur\n",
       "102       Delhi\n",
       "103      Mumbai\n",
       "104     Kolkata\n",
       "         ...   \n",
       "995     Kolkata\n",
       "996       Delhi\n",
       "997     Lucknow\n",
       "998      Kanpur\n",
       "999    Ludhiana\n",
       "Name: Customer City, Length: 900, dtype: object"
      ]
     },
     "execution_count": 30,
     "metadata": {},
     "output_type": "execute_result"
    }
   ],
   "source": [
    "amazon_india_full['Customer City'].iloc[100:1000]\n"
   ]
  },
  {
   "cell_type": "code",
   "execution_count": 32,
   "id": "6c26f23f",
   "metadata": {},
   "outputs": [
    {
     "name": "stdout",
     "output_type": "stream",
     "text": [
      "done\n"
     ]
    }
   ],
   "source": [
    "amazon_india_full['Payment Method'].unique()\n",
    "print(\"done\")"
   ]
  },
  {
   "cell_type": "code",
   "execution_count": 33,
   "id": "72c2962f",
   "metadata": {},
   "outputs": [],
   "source": [
    "payment_methods = {\n",
    "    \"COD\" : \"Cash on Delivery\",\n",
    "    \"UPI\" : \"Google Pay/PhonePe/Paytm\",\n",
    "    \"BNPL\" : \"Buy Now, Pay Later\"\n",
    "}"
   ]
  },
  {
   "cell_type": "code",
   "execution_count": 34,
   "id": "6f9b8301",
   "metadata": {},
   "outputs": [],
   "source": [
    "amazon_india_full['Payment Method'] = amazon_india_full['Payment Method'].replace(payment_methods)\n"
   ]
  },
  {
   "cell_type": "code",
   "execution_count": 35,
   "id": "07fa8310",
   "metadata": {},
   "outputs": [
    {
     "data": {
      "text/plain": [
       "array(['Cash on Delivery', 'Google Pay/PhonePe/Paytm', 'Debit Card',\n",
       "       'Credit Card', 'Net Banking', 'Wallet', 'Buy Now, Pay Later'],\n",
       "      dtype=object)"
      ]
     },
     "execution_count": 35,
     "metadata": {},
     "output_type": "execute_result"
    }
   ],
   "source": [
    "amazon_india_full['Payment Method'].unique()\n"
   ]
  },
  {
   "cell_type": "code",
   "execution_count": 36,
   "id": "ffe500df",
   "metadata": {},
   "outputs": [
    {
     "name": "stdout",
     "output_type": "stream",
     "text": [
      "no null values\n"
     ]
    }
   ],
   "source": [
    "if amazon_india_full.isnull().values.any():\n",
    "    print(amazon_india_full.isnull().sum() [amazon_india_full.isnull().sum() > 0])\n",
    "else: \n",
    "    print('no null values')"
   ]
  },
  {
   "cell_type": "code",
   "execution_count": 37,
   "id": "ffe759b4",
   "metadata": {},
   "outputs": [
    {
     "data": {
      "text/plain": [
       "Customer Rating\n",
       "4.5    380854\n",
       "5.0    289128\n",
       "4.0    275792\n",
       "3.5    117217\n",
       "3.0     64618\n",
       "Name: count, dtype: int64"
      ]
     },
     "execution_count": 37,
     "metadata": {},
     "output_type": "execute_result"
    }
   ],
   "source": [
    "amazon_india_full['Customer Rating'].value_counts()\n"
   ]
  },
  {
   "cell_type": "code",
   "execution_count": 38,
   "id": "aef6e76c",
   "metadata": {},
   "outputs": [
    {
     "data": {
      "text/plain": [
       "Category\n",
       "Electronics                  1126726\n",
       "Electronic                       229\n",
       "ELECTRONICS                      225\n",
       "Electronics & Accessories        218\n",
       "Electronicss                     211\n",
       "Name: count, dtype: int64"
      ]
     },
     "execution_count": 38,
     "metadata": {},
     "output_type": "execute_result"
    }
   ],
   "source": [
    "amazon_india_full['Category'].value_counts()\n"
   ]
  },
  {
   "cell_type": "code",
   "execution_count": 39,
   "id": "912060c3",
   "metadata": {},
   "outputs": [
    {
     "data": {
      "text/plain": [
       "Delivery Days\n",
       " 3.0     291434\n",
       " 1.0     212637\n",
       " 4.0     208547\n",
       " 5.0     137949\n",
       " 2.0     127516\n",
       " 6.0     103739\n",
       " 7.0      34441\n",
       "-1.0       6901\n",
       " 0.0       2240\n",
       " 15.0      2205\n",
       "Name: count, dtype: int64"
      ]
     },
     "execution_count": 39,
     "metadata": {},
     "output_type": "execute_result"
    }
   ],
   "source": [
    "amazon_india_full['Delivery Days'].value_counts()\n"
   ]
  },
  {
   "cell_type": "code",
   "execution_count": 40,
   "id": "9e2b5895",
   "metadata": {},
   "outputs": [
    {
     "data": {
      "text/plain": [
       "0                  Cash on Delivery\n",
       "1          Google Pay/PhonePe/Paytm\n",
       "2                        Debit Card\n",
       "3          Google Pay/PhonePe/Paytm\n",
       "4                  Cash on Delivery\n",
       "                     ...           \n",
       "1127604                  Debit Card\n",
       "1127605    Google Pay/PhonePe/Paytm\n",
       "1127606                  Debit Card\n",
       "1127607            Cash on Delivery\n",
       "1127608    Google Pay/PhonePe/Paytm\n",
       "Name: Payment Method, Length: 1127609, dtype: object"
      ]
     },
     "execution_count": 40,
     "metadata": {},
     "output_type": "execute_result"
    }
   ],
   "source": [
    "amazon_india_full['Payment Method']\n"
   ]
  },
  {
   "cell_type": "code",
   "execution_count": 43,
   "id": "6e5c7a73",
   "metadata": {},
   "outputs": [
    {
     "data": {
      "text/plain": [
       "0              Kolkata\n",
       "1             Ludhiana\n",
       "2            Bangalore\n",
       "3            Bangalore\n",
       "4                Kochi\n",
       "              ...     \n",
       "1127604         Jaipur\n",
       "1127605          Delhi\n",
       "1127606    Bhubaneswar\n",
       "1127607         Mumbai\n",
       "1127608          Surat\n",
       "Name: Customer City, Length: 1127609, dtype: object"
      ]
     },
     "execution_count": 43,
     "metadata": {},
     "output_type": "execute_result"
    }
   ],
   "source": [
    "amazon_india_full['Customer City']\n"
   ]
  },
  {
   "cell_type": "code",
   "execution_count": 44,
   "id": "b2015434",
   "metadata": {},
   "outputs": [
    {
     "data": {
      "text/plain": [
       "(1127609, 34)"
      ]
     },
     "execution_count": 44,
     "metadata": {},
     "output_type": "execute_result"
    }
   ],
   "source": [
    "amazon_india_full.shape\n"
   ]
  },
  {
   "cell_type": "code",
   "execution_count": 45,
   "id": "43b3804b",
   "metadata": {},
   "outputs": [
    {
     "name": "stdout",
     "output_type": "stream",
     "text": [
      "save\n"
     ]
    }
   ],
   "source": [
    "amazon_india_full.to_csv('Amazon India Complete.csv', index=False)\n",
    "print('save')"
   ]
  },
  {
   "cell_type": "code",
   "execution_count": null,
   "id": "3b4f2418",
   "metadata": {},
   "outputs": [],
   "source": []
  },
  {
   "cell_type": "code",
   "execution_count": null,
   "id": "81ede58f",
   "metadata": {},
   "outputs": [],
   "source": []
  },
  {
   "cell_type": "code",
   "execution_count": null,
   "id": "e51bb6c7",
   "metadata": {},
   "outputs": [],
   "source": []
  },
  {
   "cell_type": "code",
   "execution_count": null,
   "id": "e8032f60",
   "metadata": {},
   "outputs": [],
   "source": []
  },
  {
   "cell_type": "code",
   "execution_count": null,
   "id": "c3342228",
   "metadata": {},
   "outputs": [],
   "source": []
  }
 ],
 "metadata": {
  "kernelspec": {
   "display_name": "venv",
   "language": "python",
   "name": "python3"
  },
  "language_info": {
   "codemirror_mode": {
    "name": "ipython",
    "version": 3
   },
   "file_extension": ".py",
   "mimetype": "text/x-python",
   "name": "python",
   "nbconvert_exporter": "python",
   "pygments_lexer": "ipython3",
   "version": "3.12.0"
  }
 },
 "nbformat": 4,
 "nbformat_minor": 5
}
